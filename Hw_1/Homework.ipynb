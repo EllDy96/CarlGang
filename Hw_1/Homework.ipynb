{
 "cells": [
  {
   "cell_type": "code",
   "execution_count": 1,
   "id": "executed-moral",
   "metadata": {},
   "outputs": [],
   "source": [
    "import numpy as np\n",
    "import librosa\n",
    "from librosa import display\n",
    "import os\n",
    "import matplotlib.pyplot as plt\n",
    "import sklearn.svm\n",
    "import IPython.display as ipd\n",
    "import scipy as sp\n",
    "from tqdm import tqdm"
   ]
  },
  {
   "cell_type": "code",
   "execution_count": 2,
   "id": "august-meaning",
   "metadata": {},
   "outputs": [],
   "source": [
    "class AudioSample:\n",
    "    def __init__(self, centroids = [], mfcc = []):\n",
    "        self.centroids = centroids\n",
    "        self.mfcc = mfcc"
   ]
  },
  {
   "cell_type": "code",
   "execution_count": 3,
   "id": "found-former",
   "metadata": {},
   "outputs": [
    {
     "name": "stderr",
     "output_type": "stream",
     "text": [
      "10it [00:00, 45.95it/s]\n",
      "10it [00:00, 47.52it/s]\n",
      "10it [00:00, 48.32it/s]\n"
     ]
    }
   ],
   "source": [
    "classes = ['Distortion', 'Tremolo', 'NoFX']\n",
    "dict_train_features = {'Distortion': [], 'Tremolo': [], 'NoFX': []}\n",
    "\n",
    "for c in classes:\n",
    "    train_root = 'inputs/{}/training/'.format(c)\n",
    "    class_train_files = [f for f in os.listdir(train_root) if f.endswith('.wav')]\n",
    "    n_train_samples = len(class_train_files)\n",
    "    \n",
    "    #train_features = np.zeros((n_train_samples, n_centroids))\n",
    "    train_features = AudioSample()\n",
    "    for index, f in tqdm(enumerate(class_train_files)):\n",
    "        audio, fs = librosa.load(os.path.join(train_root, f), sr=None)\n",
    "        train_features.centroids = librosa.feature.spectral_centroid(audio, sr=fs, n_fft=2048, hop_length=512, win_length=1024, window='hann')\n",
    "        train_features.mfcc = librosa.feature.mfcc(audio, sr=fs, n_mfcc=20)\n",
    "        #train_features[index, :] = centroids\n",
    "        dict_train_features[c].append(train_features)\n",
    "        \n",
    "\n",
    "        \n",
    "    #dict_train_features[c] = train_features \n",
    "    \n",
    "    \n",
    "\n",
    "#dict_train_features\n",
    "#print(dict_train_features[c][0].mfcc)"
   ]
  },
  {
   "cell_type": "code",
   "execution_count": 4,
   "id": "egyptian-member",
   "metadata": {},
   "outputs": [],
   "source": [
    "#for cents in dict_train_features[\"Distortion\"]:\n",
    "    #fig = plt.figure(figsize=(16, 6))\n",
    "    #plt.plot(np.arange(n_centroids), np.transpose(cents))"
   ]
  },
  {
   "cell_type": "code",
   "execution_count": 5,
   "id": "moving-editor",
   "metadata": {},
   "outputs": [],
   "source": [
    "#for cents in dict_train_features[\"Tremolo\"]:\n",
    "    #fig = plt.figure(figsize=(16, 6))\n",
    "    #plt.plot(np.arange(n_centroids), np.transpose(cents))"
   ]
  },
  {
   "cell_type": "code",
   "execution_count": 6,
   "id": "worse-miniature",
   "metadata": {},
   "outputs": [
    {
     "name": "stderr",
     "output_type": "stream",
     "text": [
      "10it [00:00, 47.75it/s]\n",
      "10it [00:00, 50.64it/s]\n",
      "10it [00:00, 47.52it/s]\n"
     ]
    }
   ],
   "source": [
    "dict_test_features = {'Distortion': [], 'Tremolo': [], 'NoFX': []}\n",
    "\n",
    "for c in classes:\n",
    "    test_root = 'inputs/{}/test/'.format(c)\n",
    "    class_test_files = [f for f in os.listdir(test_root) if f.endswith('.wav')]\n",
    "    n_test_samples = len(class_test_files)\n",
    "    \n",
    "    test_features = AudioSample()\n",
    "    for index, f in tqdm(enumerate(class_test_files)):\n",
    "        audio, fs = librosa.load(os.path.join(test_root, f), sr=None)\n",
    "        test_features.centroids = librosa.feature.spectral_centroid(audio, sr=fs, n_fft=2048, hop_length=512, win_length=1024, window='hann')\n",
    "        test_features.mfcc = librosa.feature.mfcc(audio, sr=fs, n_mfcc=20)\n",
    "        dict_test_features[c].append(test_features)\n",
    "        "
   ]
  },
  {
   "cell_type": "code",
   "execution_count": 7,
   "id": "forward-department",
   "metadata": {},
   "outputs": [
    {
     "name": "stdout",
     "output_type": "stream",
     "text": [
      "[<__main__.AudioSample object at 0x000002A9879ED248>, <__main__.AudioSample object at 0x000002A9879ED248>, <__main__.AudioSample object at 0x000002A9879ED248>, <__main__.AudioSample object at 0x000002A9879ED248>, <__main__.AudioSample object at 0x000002A9879ED248>, <__main__.AudioSample object at 0x000002A9879ED248>, <__main__.AudioSample object at 0x000002A9879ED248>, <__main__.AudioSample object at 0x000002A9879ED248>, <__main__.AudioSample object at 0x000002A9879ED248>, <__main__.AudioSample object at 0x000002A9879ED248>]\n"
     ]
    }
   ],
   "source": [
    "class_0 = 'Distortion'\n",
    "class_1 = 'Tremolo'\n",
    "\n",
    "X_train_0 = dict_train_features[class_0]\n",
    "print(dict_train_features.get(class_0))\n",
    "#X_train_0 = np.array(X_train_0)\n",
    "X_train_1 = dict_train_features[class_1]\n",
    "#X_train_1 = np.array(X_train_1)\n",
    "\n",
    "\n",
    "X_train = np.concatenate((X_train_0, X_train_1), axis=0)\n",
    "\n",
    "#y_train_0 = np.zeros((X_train_0.shape[0],))\n",
    "#y_train_1 = np.ones((X_train_1.shape[0],))\n",
    "\n",
    "#y_train = np.concatenate((y_train_0, y_train_1), axis=0)"
   ]
  },
  {
   "cell_type": "code",
   "execution_count": 8,
   "id": "measured-italic",
   "metadata": {},
   "outputs": [
    {
     "ename": "AttributeError",
     "evalue": "'list' object has no attribute 'shape'",
     "output_type": "error",
     "traceback": [
      "\u001b[1;31m---------------------------------------------------------------------------\u001b[0m",
      "\u001b[1;31mAttributeError\u001b[0m                            Traceback (most recent call last)",
      "\u001b[1;32m<ipython-input-8-ddfccdf36e01>\u001b[0m in \u001b[0;36m<module>\u001b[1;34m\u001b[0m\n\u001b[0;32m      4\u001b[0m \u001b[0mX_test\u001b[0m \u001b[1;33m=\u001b[0m \u001b[0mnp\u001b[0m\u001b[1;33m.\u001b[0m\u001b[0mconcatenate\u001b[0m\u001b[1;33m(\u001b[0m\u001b[1;33m(\u001b[0m\u001b[0mX_test_0\u001b[0m\u001b[1;33m,\u001b[0m \u001b[0mX_test_1\u001b[0m\u001b[1;33m)\u001b[0m\u001b[1;33m,\u001b[0m \u001b[0maxis\u001b[0m\u001b[1;33m=\u001b[0m\u001b[1;36m0\u001b[0m\u001b[1;33m)\u001b[0m\u001b[1;33m\u001b[0m\u001b[1;33m\u001b[0m\u001b[0m\n\u001b[0;32m      5\u001b[0m \u001b[1;33m\u001b[0m\u001b[0m\n\u001b[1;32m----> 6\u001b[1;33m \u001b[0my_test_0\u001b[0m \u001b[1;33m=\u001b[0m \u001b[0mnp\u001b[0m\u001b[1;33m.\u001b[0m\u001b[0mzeros\u001b[0m\u001b[1;33m(\u001b[0m\u001b[1;33m(\u001b[0m\u001b[0mX_test_0\u001b[0m\u001b[1;33m.\u001b[0m\u001b[0mshape\u001b[0m\u001b[1;33m[\u001b[0m\u001b[1;36m0\u001b[0m\u001b[1;33m]\u001b[0m\u001b[1;33m,\u001b[0m\u001b[1;33m)\u001b[0m\u001b[1;33m)\u001b[0m\u001b[1;33m\u001b[0m\u001b[1;33m\u001b[0m\u001b[0m\n\u001b[0m\u001b[0;32m      7\u001b[0m \u001b[0my_test_1\u001b[0m \u001b[1;33m=\u001b[0m \u001b[0mnp\u001b[0m\u001b[1;33m.\u001b[0m\u001b[0mones\u001b[0m\u001b[1;33m(\u001b[0m\u001b[1;33m(\u001b[0m\u001b[0mX_test_1\u001b[0m\u001b[1;33m.\u001b[0m\u001b[0mshape\u001b[0m\u001b[1;33m[\u001b[0m\u001b[1;36m0\u001b[0m\u001b[1;33m]\u001b[0m\u001b[1;33m,\u001b[0m\u001b[1;33m)\u001b[0m\u001b[1;33m)\u001b[0m\u001b[1;33m\u001b[0m\u001b[1;33m\u001b[0m\u001b[0m\n\u001b[0;32m      8\u001b[0m \u001b[1;33m\u001b[0m\u001b[0m\n",
      "\u001b[1;31mAttributeError\u001b[0m: 'list' object has no attribute 'shape'"
     ]
    }
   ],
   "source": [
    "X_test_0 = dict_test_features[class_0]\n",
    "X_test_1 = dict_test_features[class_1]\n",
    "\n",
    "X_test = np.concatenate((X_test_0, X_test_1), axis=0)\n",
    "\n",
    "y_test_0 = np.zeros((X_test_0.shape[0],))\n",
    "y_test_1 = np.ones((X_test_1.shape[0],))\n",
    "\n",
    "y_test = np.concatenate((y_test_0, y_test_1), axis=0)"
   ]
  },
  {
   "cell_type": "code",
   "execution_count": null,
   "id": "subject-conclusion",
   "metadata": {},
   "outputs": [],
   "source": [
    "feat_max = np.max(X_train, axis=0)\n",
    "feat_min = np.min(X_train, axis=0)\n",
    "X_train_normalized = (X_train - feat_min) / (feat_max - feat_min)\n",
    "X_test_normalized = (X_test - feat_min) / (feat_max - feat_min)"
   ]
  },
  {
   "cell_type": "code",
   "execution_count": null,
   "id": "solid-sheep",
   "metadata": {},
   "outputs": [],
   "source": [
    "SVM_parameters={\n",
    "    'C': 1,\n",
    "    'kernel': 'rbf',\n",
    "}\n",
    "\n",
    "clf = sklearn.svm.SVC(**SVM_parameters)"
   ]
  },
  {
   "cell_type": "code",
   "execution_count": null,
   "id": "impressive-package",
   "metadata": {},
   "outputs": [],
   "source": [
    "clf.fit(X_train_normalized, y_train)"
   ]
  },
  {
   "cell_type": "code",
   "execution_count": null,
   "id": "single-disaster",
   "metadata": {},
   "outputs": [],
   "source": [
    "def compute_metrics(gt_labels, predicted_labels):\n",
    "    TP = np.sum(np.logical_and(predicted_labels == 1, gt_labels == 1))\n",
    "    FP = np.sum(np.logical_and(predicted_labels == 1, gt_labels == 0))\n",
    "    TN = np.sum(np.logical_and(predicted_labels == 0, gt_labels == 0))\n",
    "    FN = np.sum(np.logical_and(predicted_labels == 0, gt_labels == 1))\n",
    "    accuracy = (TP + TN) / (TP + FP + TN + FN)\n",
    "    precision = TP / (TP + FP)\n",
    "    recall = TP / (TP + FN)\n",
    "    F1_score = 2 * precision * recall / (precision + recall)\n",
    "    print(\"Results : \\n accuracy = {} \\n precision = {} \\n recall = {} \\n F1 score = {}\".format(\n",
    "        accuracy, precision, recall, F1_score))\n"
   ]
  },
  {
   "cell_type": "code",
   "execution_count": null,
   "id": "representative-appraisal",
   "metadata": {},
   "outputs": [],
   "source": [
    "y_test_predicted = clf.predict(X_test_normalized)\n",
    "\n",
    "compute_metrics(y_test, y_test_predicted)"
   ]
  },
  {
   "cell_type": "code",
   "execution_count": null,
   "id": "medieval-dublin",
   "metadata": {},
   "outputs": [],
   "source": [
    "class_0 = 'Distortion'\n",
    "class_1 = 'Tremolo'\n",
    "class_2 = 'NoFX'\n",
    "\n",
    "X_train_0 = dict_train_features[class_0]\n",
    "X_train_1 = dict_train_features[class_1]\n",
    "X_train_2 = dict_train_features[class_2]\n",
    "\n",
    "y_train_0 = np.zeros((X_train_0.shape[0],))\n",
    "y_train_1 = np.ones((X_train_1.shape[0],))\n",
    "y_train_2 = np.ones((X_train_2.shape[0],))*2\n",
    "\n",
    "#y_train = np.concatenate((y_train_class_0, y_train_class_1, y_train_class_1), axis=0)"
   ]
  },
  {
   "cell_type": "code",
   "execution_count": null,
   "id": "monetary-multiple",
   "metadata": {},
   "outputs": [],
   "source": [
    "X_test_0 = dict_test_features[class_0]\n",
    "X_test_1 = dict_test_features[class_1]\n",
    "X_test_2 = dict_test_features[class_2]\n",
    "\n",
    "\n",
    "y_test_0 = np.zeros((X_test_0.shape[0],))\n",
    "y_test_1 = np.ones((X_test_1.shape[0],))\n",
    "y_test_2 = np.ones((X_test_2.shape[0],))*2\n",
    "\n",
    "y_test_mc = np.concatenate((y_test_0, y_test_1, y_test_2), axis=0)"
   ]
  },
  {
   "cell_type": "code",
   "execution_count": null,
   "id": "intended-modern",
   "metadata": {},
   "outputs": [],
   "source": [
    "feat_max = np.max(np.concatenate((X_train_0, X_train_1, X_train_2), axis=0), axis=0)\n",
    "feat_min = np.min(np.concatenate((X_train_0, X_train_1, X_train_2), axis=0), axis=0)\n",
    "\n",
    "X_train_0_normalized = (X_train_0 - feat_min) / (feat_max - feat_min)\n",
    "X_train_1_normalized = (X_train_1 - feat_min) / (feat_max - feat_min)\n",
    "X_train_2_normalized = (X_train_2 - feat_min) / (feat_max - feat_min)\n",
    "\n",
    "X_test_0_normalized = (X_test_0 - feat_min) / (feat_max - feat_min)\n",
    "X_test_1_normalized = (X_test_1 - feat_min) / (feat_max - feat_min)\n",
    "X_test_2_normalized = (X_test_2 - feat_min) / (feat_max - feat_min)\n",
    "\n",
    "X_test_mc_normalized = np.concatenate((X_test_0_normalized, X_test_1_normalized, X_test_2_normalized), axis=0)\n"
   ]
  },
  {
   "cell_type": "code",
   "execution_count": null,
   "id": "visible-alliance",
   "metadata": {},
   "outputs": [],
   "source": [
    "SVM_parameters={\n",
    "    'C': 1,\n",
    "    'kernel': 'rbf',\n",
    "}\n",
    "\n",
    "clf_01 = sklearn.svm.SVC(**SVM_parameters, probability=True)\n",
    "clf_02 = sklearn.svm.SVC(**SVM_parameters, probability=True)\n",
    "clf_12 = sklearn.svm.SVC(**SVM_parameters, probability=True)\n"
   ]
  },
  {
   "cell_type": "code",
   "execution_count": null,
   "id": "historical-sunset",
   "metadata": {},
   "outputs": [],
   "source": [
    "clf_01.fit(np.concatenate((X_train_0_normalized, X_train_1_normalized), axis=0), \n",
    "           np.concatenate((y_train_0, y_train_1), axis=0))\n",
    "           \n",
    "clf_02.fit(np.concatenate((X_train_0_normalized, X_train_2_normalized), axis=0), \n",
    "           np.concatenate((y_train_0, y_train_2), axis=0))\n",
    "\n",
    "clf_12.fit(np.concatenate((X_train_1_normalized, X_train_2_normalized), axis=0), \n",
    "           np.concatenate((y_train_1, y_train_2), axis=0))"
   ]
  },
  {
   "cell_type": "code",
   "execution_count": null,
   "id": "sunset-width",
   "metadata": {},
   "outputs": [],
   "source": [
    "y_test_predicted_01 = clf_01.predict(X_test_mc_normalized).reshape(-1, 1)\n",
    "y_test_predicted_02 = clf_02.predict(X_test_mc_normalized).reshape(-1, 1)\n",
    "y_test_predicted_12 = clf_12.predict(X_test_mc_normalized).reshape(-1, 1)"
   ]
  },
  {
   "cell_type": "code",
   "execution_count": null,
   "id": "yellow-outside",
   "metadata": {},
   "outputs": [],
   "source": [
    "y_test_predicted_mc = np.concatenate((y_test_predicted_01, y_test_predicted_02, y_test_predicted_12), axis=1)\n",
    "y_test_predicted_mc = np.array(y_test_predicted_mc, dtype=np.int)"
   ]
  },
  {
   "cell_type": "code",
   "execution_count": null,
   "id": "prescription-translation",
   "metadata": {},
   "outputs": [],
   "source": [
    "y_test_predicted_mv = np.zeros((y_test_predicted_mc.shape[0],))\n",
    "for i, e in enumerate(y_test_predicted_mc):\n",
    "    y_test_predicted_mv[i] = np.bincount(e).argmax() "
   ]
  },
  {
   "cell_type": "code",
   "execution_count": null,
   "id": "communist-galaxy",
   "metadata": {},
   "outputs": [],
   "source": [
    "def compute_cm_multiclass(gt, predicted):\n",
    "    classes = np.unique(gt)\n",
    "    \n",
    "    CM = np.zeros((len(classes), len(classes)))\n",
    "    \n",
    "    for i in np.arange(len(classes)):\n",
    "        pred_class = predicted[gt==i]\n",
    "        \n",
    "        for j in np.arange(len(pred_class)):\n",
    "            CM[i, int(pred_class[j])] = CM[i, int(pred_class[j])] + 1 \n",
    "    print(CM)"
   ]
  },
  {
   "cell_type": "code",
   "execution_count": null,
   "id": "ecological-costa",
   "metadata": {},
   "outputs": [],
   "source": [
    "compute_cm_multiclass(y_test_mc, y_test_predicted_mv)"
   ]
  },
  {
   "cell_type": "code",
   "execution_count": null,
   "id": "thousand-vehicle",
   "metadata": {},
   "outputs": [],
   "source": []
  },
  {
   "cell_type": "code",
   "execution_count": null,
   "id": "assured-iraqi",
   "metadata": {},
   "outputs": [],
   "source": []
  }
 ],
 "metadata": {
  "kernelspec": {
   "display_name": "Python 3",
   "language": "python",
   "name": "python3"
  },
  "language_info": {
   "codemirror_mode": {
    "name": "ipython",
    "version": 3
   },
   "file_extension": ".py",
   "mimetype": "text/x-python",
   "name": "python",
   "nbconvert_exporter": "python",
   "pygments_lexer": "ipython3",
   "version": "3.7.10"
  }
 },
 "nbformat": 4,
 "nbformat_minor": 5
}
