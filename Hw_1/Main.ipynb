{
 "cells": [
  {
   "cell_type": "markdown",
   "id": "behavioral-kingdom",
   "metadata": {},
   "source": [
    "# Guitar effect classification "
   ]
  },
  {
   "cell_type": "markdown",
   "id": "stuffed-lafayette",
   "metadata": {},
   "source": [
    "Implementation of a SVM classifier system able to predict the presence of a Tremolo or a the distorsion effect applied to a  guitar mono audio recording. "
   ]
  },
  {
   "cell_type": "code",
   "execution_count": 1,
   "id": "opposed-formation",
   "metadata": {},
   "outputs": [],
   "source": [
    "#Importing all the lybraries\n",
    "import numpy as np\n",
    "import librosa\n",
    "import os\n",
    "import matplotlib.pyplot as plt\n",
    "import sklearn.svm\n",
    "import IPython.display as ipd\n",
    "import scipy as sp"
   ]
  },
  {
   "cell_type": "markdown",
   "id": "willing-shark",
   "metadata": {},
   "source": [
    "Due to the fact that both these effect imply a significat change in the power spectrum, It efficient to use as a decision feature the Root Mean Square the prediction works efficiently.\n",
    "\n",
    "\n",
    "\n",
    "\n",
    "\n"
   ]
  },
  {
   "cell_type": "markdown",
   "id": "manufactured-brooks",
   "metadata": {},
   "source": [
    "# Features computation"
   ]
  },
  {
   "cell_type": "code",
   "execution_count": null,
   "id": "relative-bennett",
   "metadata": {},
   "outputs": [],
   "source": [
    "\n",
    "\n",
    "def spectogram_flux(audio, fs):\n",
    "    # Compute STFT  of the audio signal\n",
    "    #we are defining the signal starting from the input audio. We take the magnitude of the DFT, we use the Hannin window, \n",
    "    #we specify the number of sample we compute the fft for each window \n",
    "    #and the hop size\n",
    "    X = np.abs(librosa.stft(\n",
    "        audio,\n",
    "        window='hamming',\n",
    "        n_fft=1024,\n",
    "        hop_length=512,)\n",
    "        ) \n",
    "    \n",
    "    # applying the function \n",
    "    onset_env = librosa.onset.onset_strength(y=X, sr=fs)\n",
    "   "
   ]
  }
 ],
 "metadata": {
  "kernelspec": {
   "display_name": "Python 3",
   "language": "python",
   "name": "python3"
  },
  "language_info": {
   "codemirror_mode": {
    "name": "ipython",
    "version": 3
   },
   "file_extension": ".py",
   "mimetype": "text/x-python",
   "name": "python",
   "nbconvert_exporter": "python",
   "pygments_lexer": "ipython3",
   "version": "3.7.10"
  }
 },
 "nbformat": 4,
 "nbformat_minor": 5
}
